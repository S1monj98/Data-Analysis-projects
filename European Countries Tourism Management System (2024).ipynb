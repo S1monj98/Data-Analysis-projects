{
 "cells": [
  {
   "cell_type": "markdown",
   "id": "19af8ead-c03a-4d32-b11e-5708dd2a4fee",
   "metadata": {},
   "source": [
    "# European Countries Element Management System\r\n"
   ]
  },
  {
   "cell_type": "markdown",
   "id": "54735b82-056f-4b8a-87b7-b16ea42aa0c1",
   "metadata": {},
   "source": [
    "# Functions:"
   ]
  },
  {
   "cell_type": "code",
   "execution_count": 1,
   "id": "4de6873c-bde4-4070-a77f-b4da26b01226",
   "metadata": {},
   "outputs": [],
   "source": [
    "def info(country):\n",
    "    \"\"\"\n",
    "    Prints detailed information about a specific country.\n",
    "\n",
    "    Parameters:\n",
    "    country (str): The name of the country for which to retrieve information.\n",
    "    Returns:\n",
    "    None: The function prints data related to the country and does not return any value.\n",
    "    \"\"\"\n",
    "    if country in european_countries:\n",
    "        print(f\"The country you selected is: {country}\")\n",
    "        print(f\"Number of visitors: {european_countries[country]['visitors']}\")\n",
    "        print(f\"Most visited cities: {european_countries[country]['cities']}\")\n",
    "        print(f\"Population: {european_countries[country]['population']}\")\n",
    "        print(f\"Area in km²: {european_countries[country]['area']}\")\n",
    "\n",
    "\n",
    "def new_country(nation, n_visitors, cities, inhabitants, area):\n",
    "    \"\"\"\n",
    "    Adds a new country to the list of European countries with relevant information.\n",
    "\n",
    "    Parameters:\n",
    "    nation (str): The name of the nation to add.\n",
    "    n_visitors (int): The annual number of visitors to the nation.\n",
    "    cities (list): A list of major cities in the nation.\n",
    "    inhabitants (int): The population of the nation.\n",
    "    area (int): The total area of the nation in km².\n",
    "\n",
    "    Returns:\n",
    "    None: The function updates the 'european_countries' dictionary and does not return any value.\n",
    "    \"\"\"\n",
    "    if nation not in european_countries:\n",
    "        european_countries[nation] = {}\n",
    "    european_countries[nation][\"visitors\"] = n_visitors\n",
    "    european_countries[nation][\"cities\"] = cities\n",
    "    european_countries[nation][\"population\"] = inhabitants\n",
    "    european_countries[nation][\"area\"] = area\n",
    "\n",
    "def countries():\n",
    "    \"\"\"\n",
    "    Returns the list of all countries present in the 'european_countries' dictionary.\n",
    "\n",
    "    Parameters:\n",
    "    None\n",
    "\n",
    "    Returns:\n",
    "    list: A list containing the names of all countries present in the 'european_countries' dictionary.\n",
    "    \"\"\"\n",
    "    return list(european_countries.keys())\n",
    "\n",
    "def new_cities(country, city):\n",
    "    \"\"\"\n",
    "    Adds a new city to the list of cities for a specific country in the 'european_countries' dictionary.\n",
    "    \n",
    "    If the country is already present in the 'european_countries' dictionary, the city is added to the list associated with the country.\n",
    "    If the country is not present, the function does nothing and returns None.\n",
    "    \n",
    "    Args:\n",
    "        country (str): The name of the country to add the city to.\n",
    "        city (str): The name of the city to add.\n",
    "\n",
    "    Returns:\n",
    "        None: The function prints the updated list of cities for the specified country.\n",
    "\n",
    "    \"\"\"\n",
    "    if country in european_countries:\n",
    "        european_countries[country][\"cities\"].append(city)\n",
    "    return print(european_countries[country][\"cities\"])\n",
    "\n",
    "def count_visitors_greater_than(number):\n",
    "    \"\"\"\n",
    "    Prints the names of countries with more visitors than a specified threshold.\n",
    "    \n",
    "    Parameters:\n",
    "    number (int): The visitor threshold. Only countries with more visitors than this value will be printed.\n",
    "    \n",
    "    Returns:\n",
    "    None: The function directly prints the names of the countries and does not return any value.\n",
    "    \"\"\"\n",
    "    condition = False\n",
    "    \n",
    "    for country in european_countries:\n",
    "        if european_countries[country][\"visitors\"] > number:\n",
    "            condition = True\n",
    "            print(country)\n",
    "    if not condition:\n",
    "            print(\"No countries meet the condition.\")\n",
    "\n",
    "\n",
    "def count_visitors_less_than(number):\n",
    "    \"\"\"\n",
    "    Prints the names of countries with fewer visitors than a specified threshold.\n",
    "    \n",
    "    Parameters:\n",
    "    number (int): The visitor threshold. Only countries with fewer visitors than this value will be printed.\n",
    "    \n",
    "    Returns:\n",
    "    None: The function directly prints the names of the countries and does not return any value.\n",
    "    \"\"\"\n",
    "    condition = False\n",
    "    \n",
    "    for country in european_countries:\n",
    "        if european_countries[country][\"visitors\"] < number:\n",
    "            condition = True\n",
    "            print(country)\n",
    "    if not condition:\n",
    "            print(\"No countries meet the condition.\")\n",
    "\n",
    "def stat_adv(density):\n",
    "    \"\"\"\n",
    "    Calculates and compares the visitor density per square kilometer for each country against a specified threshold.\n",
    "    \n",
    "    The function calculates the visitor density (visitors per km²) for each country in the 'european_countries' list and compares it with the provided threshold. It then prints for each country whether the density is below or above the threshold.\n",
    "\n",
    "    Parameters:\n",
    "    density (int): The threshold for visitor density per km² to compare each country against.\n",
    "\n",
    "    Returns:\n",
    "    None: The function prints the results directly and does not return any value.\n",
    "    \"\"\"\n",
    "    density_countries = {}\n",
    "\n",
    "    # Calculate the density for each country\n",
    "    for country in european_countries:\n",
    "        calc_density = int(european_countries[country][\"visitors\"] / european_countries[country][\"area\"])\n",
    "        density_countries[country] = calc_density\n",
    "\n",
    "    # Compare the calculated density with the threshold \"density\"\n",
    "    for country, calculated_density in density_countries.items():\n",
    "        print(f\"{country} has a density of {calculated_density}, below the threshold: {calculated_density < density}\")\n",
    "\n",
    "\n",
    "def filt_adv(number, number_2):\n",
    "    \"\"\"\n",
    "    Filters and prints European countries that meet two specific criteria.\n",
    "\n",
    "    The function loops through the 'european_countries' dictionary to check if there are countries \n",
    "    that have more visitors than 'number' and a population smaller than 'number_2'. \n",
    "    For each country that meets both criteria, its name is printed. \n",
    "    If no country meets these conditions, the function returns a message indicating \n",
    "    that no countries meet the criteria.\n",
    "\n",
    "    Parameters:\n",
    "        number (int or float): The minimum threshold for the number of visitors. Only countries with a number \n",
    "                               of visitors greater than this value will be included.\n",
    "        number_2 (int or float): The maximum threshold for the population. Only countries with a population \n",
    "                                 lower than this value will be included.\n",
    "\n",
    "    Returns:\n",
    "        str: A message indicating that no countries meet the conditions if none are found.\n",
    "    \"\"\"\n",
    "\n",
    "    condition = False\n",
    "    for country in european_countries:\n",
    "        if european_countries[country][\"visitors\"] > number and european_countries[country][\"population\"] < number_2:\n",
    "            condition = True\n",
    "            print(country)\n",
    "\n",
    "    if not condition:\n",
    "        print(\"No countries meet both conditions.\")\n"
   ]
  },
  {
   "cell_type": "markdown",
   "id": "704b40bc-520a-4f47-9b40-c9497439d401",
   "metadata": {},
   "source": [
    "# Dictionaries: "
   ]
  },
  {
   "cell_type": "code",
   "execution_count": 65,
   "id": "200f8629-947e-4c2a-bc12-e0ef3f8a11a9",
   "metadata": {},
   "outputs": [],
   "source": [
    "european_countries = {\n",
    "    \"Croatia\": {\n",
    "        \"visitors\": 18000000,\n",
    "        \"cities\": [\"Split\", \"Zagreb\", \"Dubrovnik\"],\n",
    "        \"population\": 4000000,\n",
    "        \"area\": 56594  # in km²\n",
    "    },\n",
    "    \"Portugal\": {\n",
    "        \"visitors\": 21200000,\n",
    "        \"cities\": [\"Lisbon\", \"Porto\", \"Faro\", \"Sintra\"],\n",
    "        \"population\": 10000000,\n",
    "        \"area\": 92212  # in km²\n",
    "    },\n",
    "    \"Greece\": {\n",
    "        \"visitors\": 27200000,\n",
    "        \"cities\": [\"Athens\", \"Santorini\", \"Mykonos\"],\n",
    "        \"population\": 10000000,\n",
    "        \"area\": 131957  # in km²\n",
    "    },\n",
    "    \"Austria\": {\n",
    "        \"visitors\": 29500000,\n",
    "        \"cities\": [\"Vienna\", \"Salzburg\", \"Graz\", \"Innsbruck\"],\n",
    "        \"population\": 9000000,\n",
    "        \"area\": 83879  # in km²\n",
    "    },\n",
    "    \"Germany\": {\n",
    "        \"visitors\": 37500000,\n",
    "        \"cities\": [\"Berlin\", \"Munich\", \"Frankfurt\", \"Hamburg\"],\n",
    "        \"population\": 83000000,\n",
    "        \"area\": 357386  # in km²\n",
    "    },\n",
    "    \"Turkey\": {\n",
    "        \"visitors\": 37600000,\n",
    "        \"cities\": [\"Istanbul\", \"Ankara\", \"Izmir\"],\n",
    "        \"population\": 85000000,\n",
    "        \"area\": 783356  # in km²\n",
    "    },\n",
    "    \"United Kingdom\": {\n",
    "        \"visitors\": 37700000,\n",
    "        \"cities\": [\"London\", \"Edinburgh\", \"Liverpool\", \"Cardiff\"],\n",
    "        \"population\": 67000000,\n",
    "        \"area\": 243610  # in km²\n",
    "    },\n",
    "    \"Italy\": {\n",
    "        \"visitors\": 58300000,\n",
    "        \"cities\": [\"Milan\", \"Rome\", \"Florence\", \"Venice\"],\n",
    "        \"population\": 59000000,\n",
    "        \"area\": 301340  # in km²\n",
    "    },\n",
    "    \"Spain\": {\n",
    "        \"visitors\": 81800000,\n",
    "        \"cities\": [\"Madrid\", \"Barcelona\", \"Seville\", \"Valencia\"],\n",
    "        \"population\": 48000000,\n",
    "        \"area\": 505990  # in km²\n",
    "    },\n",
    "    \"France\": {\n",
    "        \"visitors\": 86900000,\n",
    "        \"cities\": [\"Paris\", \"Lourdes\", \"Marseille\"],\n",
    "        \"population\": 68000000,\n",
    "        \"area\": 551695  # in km²\n",
    "    }\n",
    "}\n",
    "\n",
    "\n",
    "## Information about visitors in the capitals of the countries:\n",
    "capitals_visits_2023 = {\n",
    "    \"Zagreb\": 169000,\n",
    "    \"Lisbon\": 4000000,\n",
    "    \"Athens\": 6000000,\n",
    "    \"Vienna\": 6000000,\n",
    "    \"Berlin\": 6000000,\n",
    "    \"Ankara\": 5500000,\n",
    "    \"London\": 19000000,\n",
    "    \"Rome\": 9500000,\n",
    "    \"Madrid\": 5600000,\n",
    "    \"Paris\": 15500000\n",
    "}\n"
   ]
  },
  {
   "cell_type": "markdown",
   "id": "f4c89716-79ae-4c84-8b39-48cdc7ac2722",
   "metadata": {},
   "source": [
    "# Welcome to the European Countries Element Management System. In this notebook, we will explore statistics on visitors, the most visited cities, and other demographic information for various European countries.\n",
    "\n",
    "# You will also have the opportunity to participate in quizzes to test your knowledge, as well as use functions that allow you to view detailed data on countries or add new nations to the system.\n"
   ]
  },
  {
   "cell_type": "markdown",
   "id": "56f5f7b9-53c8-4bc8-b1a4-2a88ba230557",
   "metadata": {},
   "source": [
    "# Let's display the countries considered in our research:\n"
   ]
  },
  {
   "cell_type": "code",
   "execution_count": 56,
   "id": "8acc6498-3ee1-4217-bffc-17724c7725de",
   "metadata": {},
   "outputs": [
    {
     "name": "stdout",
     "output_type": "stream",
     "text": [
      "The countries involved in our research are: ['Croatia', 'Portugal', 'Greece', 'Austria', 'Germany', 'Turkey', 'United Kingdom', 'Italy', 'Spain', 'France']\n"
     ]
    }
   ],
   "source": [
    "print(f\"The countries involved in our research are: {list(european_countries.keys())}\")\n"
   ]
  },
  {
   "cell_type": "markdown",
   "id": "e770b1a7-5c9e-4cc6-a410-461b3e053b6f",
   "metadata": {},
   "source": [
    "# Information about capitals:\n"
   ]
  },
  {
   "cell_type": "code",
   "execution_count": 67,
   "id": "15fe1b00-ab81-49d6-b78c-3f5c9c3e2431",
   "metadata": {},
   "outputs": [
    {
     "name": "stdout",
     "output_type": "stream",
     "text": [
      "Below are the capitals of each country with their respective visitors in 2023: [('Zagreb', 169000), ('Lisbon', 4000000), ('Athens', 6000000), ('Vienna', 6000000), ('Berlin', 6000000), ('Ankara', 5500000), ('London', 19000000), ('Rome', 9500000), ('Madrid', 5600000), ('Paris', 15500000)]\n"
     ]
    }
   ],
   "source": [
    "print(f\"Below are the capitals of each country with their respective visitors in 2023: {list(capitals_visits_2023.items())}\")\n"
   ]
  },
  {
   "cell_type": "markdown",
   "id": "764eb90d-2be5-4ea1-87f3-614b9da8ed2a",
   "metadata": {},
   "source": [
    "# A little quiz:\r\n"
   ]
  },
  {
   "cell_type": "code",
   "execution_count": 70,
   "id": "f4f24b7a-464a-4fb0-a0a8-7134ef7478c3",
   "metadata": {},
   "outputs": [
    {
     "name": "stdin",
     "output_type": "stream",
     "text": [
      "What is the capital with the most visitors?  London\n"
     ]
    },
    {
     "name": "stdout",
     "output_type": "stream",
     "text": [
      "Well done!\n"
     ]
    },
    {
     "name": "stdin",
     "output_type": "stream",
     "text": [
      "What is the capital with the least visitors?  Zagreb\n"
     ]
    },
    {
     "name": "stdout",
     "output_type": "stream",
     "text": [
      "Great!\n"
     ]
    }
   ],
   "source": [
    "def valid_input(prompt):\n",
    "    \"\"\"\n",
    "    Asks for user input, ensuring it's not empty or made up only of whitespace.\n",
    "    \n",
    "    Parameter:\n",
    "    prompt (str): The input request to display to the user.\n",
    "    \n",
    "    Returns:\n",
    "    str: The validated input from the user.\n",
    "    \"\"\"\n",
    "    while True:\n",
    "        user_input = input(prompt).strip()\n",
    "        \n",
    "        # Check if the input is empty or consists only of spaces\n",
    "        if not user_input:\n",
    "            print(\"Invalid input. Please enter a valid value (not empty or just spaces).\")\n",
    "        else:\n",
    "            return user_input.lower()\n",
    "\n",
    "while True:\n",
    "    max_visitors = max(capitals_visits.values())\n",
    "    max_visited = \"\"\n",
    "    for city, value in capitals_visits.items():\n",
    "        if value == max_visitors:\n",
    "            max_visited = city\n",
    "\n",
    "    # Request and validate input for the capital with the most visitors\n",
    "    guess_1 = valid_input(\"What is the capital with the most visitors? \")\n",
    "\n",
    "    if guess_1 == max_visited.lower():\n",
    "        print(\"Well done!\")\n",
    "    else:\n",
    "        print(f\"Wrong. The correct answer is {max_visited}.\")\n",
    "    \n",
    "    min_visitors = min(capitals_visits.values())\n",
    "    min_visited = \"\"\n",
    "    for city, value in capitals_visits.items():\n",
    "        if value == min_visitors:\n",
    "            min_visited = city\n",
    "\n",
    "    # Request and validate input for the capital with the least visitors\n",
    "    guess_2 = valid_input(\"What is the capital with the least visitors? \")\n",
    "\n",
    "    if guess_2 == min_visited.lower():\n",
    "        print(\"Great!\")\n",
    "        break\n",
    "    else:\n",
    "        print(f\"Wrong. The correct answer is {min_visited}.\")\n",
    "        break\n"
   ]
  },
  {
   "cell_type": "markdown",
   "id": "ece1455c-161f-430d-b199-2ac54fed2ed0",
   "metadata": {},
   "source": [
    "# Here we are at the final part of my Management System.\n"
   ]
  },
  {
   "cell_type": "code",
   "execution_count": 81,
   "id": "76c0a37d-370b-4747-b4a2-3cb6ff036172",
   "metadata": {},
   "outputs": [
    {
     "name": "stdout",
     "output_type": "stream",
     "text": [
      "To continue using the functions, type any character, otherwise press esc to exit.\n"
     ]
    },
    {
     "name": "stdin",
     "output_type": "stream",
     "text": [
      "Type a character to continue or press esc to exit:  esc\n"
     ]
    },
    {
     "name": "stdout",
     "output_type": "stream",
     "text": [
      "Thank you for using my program!\n"
     ]
    }
   ],
   "source": [
    "def valid_input(prompt):\n",
    "\n",
    "    while True:\n",
    "        user_input = input(prompt).strip()\n",
    "        if not user_input:\n",
    "            print(\"Invalid input. Please enter a valid value (not empty or just spaces).\")\n",
    "        else:\n",
    "            return user_input.lower()\n",
    "\n",
    "while True:\n",
    "    \n",
    "    final_choice = valid_input(\"To continue using the functions, type any character, otherwise type esc to exit: \")\n",
    "    if final_choice.lower() == \"esc\":\n",
    "        print(\"Thank you for using my program!\")\n",
    "        break\n",
    "    else:\n",
    "        print(\"Have fun! (At the top you will find the functions' list)\")\n",
    "        break\n"
   ]
  },
  {
   "cell_type": "markdown",
   "id": "9d10e486-b799-42df-b3f3-47edc8867d68",
   "metadata": {},
   "source": [
    "# Thank you for testing my program!"
   ]
  }
 ],
 "metadata": {
  "kernelspec": {
   "display_name": "Python 3 (ipykernel)",
   "language": "python",
   "name": "python3"
  },
  "language_info": {
   "codemirror_mode": {
    "name": "ipython",
    "version": 3
   },
   "file_extension": ".py",
   "mimetype": "text/x-python",
   "name": "python",
   "nbconvert_exporter": "python",
   "pygments_lexer": "ipython3",
   "version": "3.12.4"
  }
 },
 "nbformat": 4,
 "nbformat_minor": 5
}
